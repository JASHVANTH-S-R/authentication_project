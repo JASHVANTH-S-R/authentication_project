{
 "cells": [
  {
   "cell_type": "code",
   "execution_count": 17,
   "id": "a6d7537a-8cab-45cd-b7fb-4f07a23b5831",
   "metadata": {},
   "outputs": [
    {
     "name": "stdin",
     "output_type": "stream",
     "text": [
      "Enter your email address:  user1@example.com\n",
      "Enter your password:  password1\n"
     ]
    },
    {
     "name": "stdout",
     "output_type": "stream",
     "text": [
      "Welcome to the Admin Page!\n",
      "\n",
      "Section:  Experience\n"
     ]
    },
    {
     "name": "stdin",
     "output_type": "stream",
     "text": [
      "What was your most adventurous experience?:  a\n",
      "What is your dream travel destination?:  a\n",
      "Describe a moment when you felt proud of yourself.:  a\n"
     ]
    },
    {
     "name": "stdout",
     "output_type": "stream",
     "text": [
      "Oops! You answered at least one question incorrectly in this section. Please log in again.\n"
     ]
    },
    {
     "ename": "KeyError",
     "evalue": "'role'",
     "output_type": "error",
     "traceback": [
      "\u001b[1;31m---------------------------------------------------------------------------\u001b[0m",
      "\u001b[1;31mKeyError\u001b[0m                                  Traceback (most recent call last)",
      "Cell \u001b[1;32mIn[17], line 74\u001b[0m\n\u001b[0;32m     72\u001b[0m users \u001b[38;5;241m=\u001b[39m read_users(\u001b[38;5;124m'\u001b[39m\u001b[38;5;124musers.csv\u001b[39m\u001b[38;5;124m'\u001b[39m)\n\u001b[0;32m     73\u001b[0m ask_questions(users)\n\u001b[1;32m---> 74\u001b[0m \u001b[38;5;28mprint\u001b[39m(\u001b[38;5;124mf\u001b[39m\u001b[38;5;124m\"\u001b[39m\u001b[38;5;124mWelcome to the \u001b[39m\u001b[38;5;132;01m{\u001b[39;00m\u001b[38;5;124m'\u001b[39m\u001b[38;5;124mAdmin\u001b[39m\u001b[38;5;124m'\u001b[39m\u001b[38;5;250m \u001b[39m\u001b[38;5;28;01mif\u001b[39;00m\u001b[38;5;250m \u001b[39m\u001b[43musers\u001b[49m\u001b[43m[\u001b[49m\u001b[38;5;124;43m'\u001b[39;49m\u001b[38;5;124;43mrole\u001b[39;49m\u001b[38;5;124;43m'\u001b[39;49m\u001b[43m]\u001b[49m\u001b[38;5;241m.\u001b[39mlower()\u001b[38;5;250m \u001b[39m\u001b[38;5;241m==\u001b[39m\u001b[38;5;250m \u001b[39m\u001b[38;5;124m'\u001b[39m\u001b[38;5;124madmin\u001b[39m\u001b[38;5;124m'\u001b[39m\u001b[38;5;250m \u001b[39m\u001b[38;5;28;01melse\u001b[39;00m\u001b[38;5;250m \u001b[39m\u001b[38;5;124m'\u001b[39m\u001b[38;5;124mUser\u001b[39m\u001b[38;5;124m'\u001b[39m\u001b[38;5;132;01m}\u001b[39;00m\u001b[38;5;124m Page!\u001b[39m\u001b[38;5;124m\"\u001b[39m)\n",
      "\u001b[1;31mKeyError\u001b[0m: 'role'"
     ]
    }
   ],
   "source": [
    "import csv\n",
    "import random\n",
    "\n",
    "# Function to read CSV file and return a dictionary of users\n",
    "def read_users(file_name):\n",
    "    with open(file_name, newline='', encoding='utf-8-sig') as csvfile:\n",
    "        reader = csv.DictReader(csvfile)\n",
    "        users = {row['emailID']: {'userID': row['userID'], 'password': row['Password'], 'role': row['Role']} for row in reader}\n",
    "    return users\n",
    "\n",
    "# Function to read CSV file and return a list of questions\n",
    "def read_questions(file_name):\n",
    "    with open(file_name, newline='', encoding='utf-8-sig') as csvfile:\n",
    "        reader = csv.reader(csvfile)\n",
    "        questions = list(reader)\n",
    "    return questions\n",
    "\n",
    "# Function to select random questions from a list\n",
    "def select_random_questions(questions_list, num_questions):\n",
    "    return random.sample(questions_list, num_questions)\n",
    "\n",
    "# Function to verify user's login credentials\n",
    "def verify_login(email, password, users):\n",
    "    if email in users:\n",
    "        return users[email]['password'] == password, users[email]['role']\n",
    "    return False, None\n",
    "\n",
    "# Function to verify user's answer to a question\n",
    "def verify_answer(question, user_answer):\n",
    "    correct_answer = question[1]\n",
    "    return user_answer == correct_answer\n",
    "\n",
    "# Function to interactively ask questions and verify answers\n",
    "def ask_questions(users):\n",
    "    email = input(\"Enter your email address: \")\n",
    "    password = input(\"Enter your password: \")\n",
    "\n",
    "    valid_login, role = verify_login(email, password, users)\n",
    "    if not valid_login:\n",
    "        print(\"Invalid credentials. Exiting...\")\n",
    "        return\n",
    "    \n",
    "    if role.lower() == 'admin':\n",
    "        print(\"Welcome to the Admin Page!\")\n",
    "        return\n",
    "    else:\n",
    "        print(\"Welcome to the User Page!\")\n",
    "\n",
    "    # Read questions from CSV files\n",
    "    experience_questions = read_questions('experience_questions.csv')\n",
    "    identity_questions = read_questions('identity_questions.csv')\n",
    "    preference_questions = read_questions('preference_questions.csv')\n",
    "    knowledge_questions = read_questions('knowledge_questions.csv')\n",
    "    \n",
    "    # Ask questions and verify answers for each section\n",
    "    sections = [(\"Experience\", experience_questions), (\"Identity\", identity_questions), (\"Preference\", preference_questions), (\"Knowledge\", knowledge_questions)]\n",
    "    for section_name, section_questions in sections:\n",
    "        print(\"\\nSection: \", section_name)\n",
    "        correct_answers = 0\n",
    "        section_correct = True\n",
    "        random_section_questions = select_random_questions(section_questions[1:], 3)\n",
    "        for question in random_section_questions:\n",
    "            user_answer = input(question[0] + \": \")\n",
    "            if verify_answer(question, user_answer):\n",
    "                correct_answers += 1\n",
    "        \n",
    "        if correct_answers == 3:\n",
    "            print(\"Congratulations! You answered all questions in this section correctly.\")\n",
    "        else:\n",
    "            print(\"Oops! You answered at least one question incorrectly in this section. Please log in again.\")\n",
    "            return  # Return to login if any answer is incorrect\n",
    "\n",
    "# Call the main function to start the interaction\n",
    "if __name__ == \"__main__\":\n",
    "    users = read_users('users.csv')\n",
    "    ask_questions(users)\n"
   ]
  },
  {
   "cell_type": "code",
   "execution_count": 16,
   "id": "68fe364b-a198-43d5-b169-ddea3cc2c146",
   "metadata": {},
   "outputs": [
    {
     "data": {
      "text/plain": [
       "3"
      ]
     },
     "execution_count": 16,
     "metadata": {},
     "output_type": "execute_result"
    }
   ],
   "source": [
    "a=[1,2,3,4]\n",
    "b=len(a)-1\n",
    "b"
   ]
  },
  {
   "cell_type": "code",
   "execution_count": null,
   "id": "9dbe807c-7040-4019-a8bd-0afbde354465",
   "metadata": {},
   "outputs": [],
   "source": []
  }
 ],
 "metadata": {
  "kernelspec": {
   "display_name": "Python 3 (ipykernel)",
   "language": "python",
   "name": "python3"
  },
  "language_info": {
   "codemirror_mode": {
    "name": "ipython",
    "version": 3
   },
   "file_extension": ".py",
   "mimetype": "text/x-python",
   "name": "python",
   "nbconvert_exporter": "python",
   "pygments_lexer": "ipython3",
   "version": "3.11.4"
  }
 },
 "nbformat": 4,
 "nbformat_minor": 5
}
